{
 "cells": [
  {
   "cell_type": "markdown",
   "metadata": {},
   "source": [
    "## PMC15 Pipeline\n",
    "\n",
    "This will run the PMC15 pipeline. The steps are as follows:\n",
    "\n",
    "1. Download the list of PMC Open Access data\n",
    "2. Download and extract the data\n",
    "3. Parse all the articles and create a `_results/data/pubmed_parsed_data.jsonl` file\n",
    "\n",
    "In the `pubmed_parsed_data.jsonl` file, each line is a JSON object with the following shape:\n",
    "\n",
    "```json\n",
    "{\n",
    "    \"pmid\": \"PMID_VALUE like 11178228\",\n",
    "    \"pmc\": \"PMC_VALUE like 15015\",\n",
    "    \"location\": \"LOCATION_PATH: path to where the article is stored on disk\",\n",
    "    \"figures\": [\n",
    "        {\n",
    "            \"fig_caption\": \"FIGURE_CAPTION: the caption of the figure in the article\",\n",
    "            \"fig_id\": \"FIGURE_ID: F1, F2, etc\",\n",
    "            \"fig_label\": \"FIGURE_LABEL: Figure 1, Figure 2, etc. Where the figure is referenced in the article\",\n",
    "            \"graphic_ref\": \"GRAPHIC_REFERENCE_PATH: path to where the imape is stored on disk\",\n",
    "            \"pair_id\": \"PAIR_ID: {pmid}_{fig_id}\",\n",
    "        },\n",
    "    ]\n",
    "}\n",
    "```"
   ]
  },
  {
   "cell_type": "code",
   "execution_count": 1,
   "metadata": {},
   "outputs": [],
   "source": [
    "# this controls how many articles will be downloaded and processed. Set to `None` to process all articles in the PMCOA list\n",
    "MAX_ITEMS_TO_PROCESS = 100"
   ]
  },
  {
   "cell_type": "code",
   "execution_count": 2,
   "metadata": {},
   "outputs": [],
   "source": [
    "from pmc15_pipeline import data\n",
    "from pmc15_pipeline.utils import fs_utils"
   ]
  },
  {
   "cell_type": "code",
   "execution_count": 3,
   "metadata": {},
   "outputs": [],
   "source": [
    "repo_root = fs_utils.get_repo_root_path()"
   ]
  },
  {
   "cell_type": "code",
   "execution_count": 4,
   "metadata": {},
   "outputs": [
    {
     "name": "stdout",
     "output_type": "stream",
     "text": [
      "Downloading OpenAccess file list from: https://ftp.ncbi.nlm.nih.gov/pub/pmc/oa_file_list.txt to /workspaces/biomedclip_data_pipeline/_results/data/pubmed_open_access_file_list.txt\n",
      "Saved to: /workspaces/biomedclip_data_pipeline/_results/data/pubmed_open_access_file_list.txt\n"
     ]
    }
   ],
   "source": [
    "list_output_path = repo_root / \"_results\" / \"data\" / \"pubmed_open_access_file_list.txt\"\n",
    "\n",
    "data.download_pubmed_file_list(\n",
    "    output_file_path=list_output_path,\n",
    ")"
   ]
  },
  {
   "cell_type": "code",
   "execution_count": 5,
   "metadata": {},
   "outputs": [
    {
     "name": "stderr",
     "output_type": "stream",
     "text": [
      "  0%|          | 0/100 [00:00<?, ?it/s]"
     ]
    },
    {
     "name": "stdout",
     "output_type": "stream",
     "text": [
      "File: PMC13900.tar.gz size: 108943 bytes\n"
     ]
    },
    {
     "name": "stderr",
     "output_type": "stream",
     "text": [
      "  1%|          | 1/100 [00:01<01:44,  1.06s/it]"
     ]
    },
    {
     "name": "stdout",
     "output_type": "stream",
     "text": [
      "File: PMC13901.tar.gz size: 1913305 bytes\n"
     ]
    },
    {
     "name": "stderr",
     "output_type": "stream",
     "text": [
      "  2%|▏         | 2/100 [00:02<02:04,  1.27s/it]"
     ]
    },
    {
     "name": "stdout",
     "output_type": "stream",
     "text": [
      "File: PMC13902.tar.gz size: 1090539 bytes\n"
     ]
    },
    {
     "name": "stderr",
     "output_type": "stream",
     "text": [
      "  3%|▎         | 3/100 [00:04<01:59,  1.23s/it]"
     ]
    },
    {
     "name": "stdout",
     "output_type": "stream",
     "text": [
      "File: PMC13911.tar.gz size: 100236 bytes\n"
     ]
    },
    {
     "name": "stderr",
     "output_type": "stream",
     "text": [
      "  4%|▍         | 4/100 [00:04<01:47,  1.12s/it]"
     ]
    },
    {
     "name": "stdout",
     "output_type": "stream",
     "text": [
      "File: PMC13912.tar.gz size: 454405 bytes\n"
     ]
    },
    {
     "name": "stderr",
     "output_type": "stream",
     "text": [
      "  5%|▌         | 5/100 [00:06<01:46,  1.12s/it]"
     ]
    },
    {
     "name": "stdout",
     "output_type": "stream",
     "text": [
      "File: PMC13913.tar.gz size: 283665 bytes\n"
     ]
    },
    {
     "name": "stderr",
     "output_type": "stream",
     "text": [
      "  6%|▌         | 6/100 [00:07<01:46,  1.13s/it]"
     ]
    },
    {
     "name": "stdout",
     "output_type": "stream",
     "text": [
      "File: PMC13914.tar.gz size: 179788 bytes\n"
     ]
    },
    {
     "name": "stderr",
     "output_type": "stream",
     "text": [
      "  7%|▋         | 7/100 [00:08<01:46,  1.15s/it]"
     ]
    },
    {
     "name": "stdout",
     "output_type": "stream",
     "text": [
      "File: PMC13915.tar.gz size: 1759577 bytes\n"
     ]
    },
    {
     "name": "stderr",
     "output_type": "stream",
     "text": [
      "  8%|▊         | 8/100 [00:10<02:20,  1.52s/it]"
     ]
    },
    {
     "name": "stdout",
     "output_type": "stream",
     "text": [
      "File: PMC13916.tar.gz size: 912644 bytes\n"
     ]
    },
    {
     "name": "stderr",
     "output_type": "stream",
     "text": [
      "  9%|▉         | 9/100 [00:12<02:14,  1.48s/it]"
     ]
    },
    {
     "name": "stdout",
     "output_type": "stream",
     "text": [
      "File: PMC13917.tar.gz size: 2247749 bytes\n"
     ]
    },
    {
     "name": "stderr",
     "output_type": "stream",
     "text": [
      " 10%|█         | 10/100 [00:13<02:09,  1.43s/it]"
     ]
    },
    {
     "name": "stdout",
     "output_type": "stream",
     "text": [
      "File: PMC13918.tar.gz size: 117041 bytes\n"
     ]
    },
    {
     "name": "stderr",
     "output_type": "stream",
     "text": [
      " 11%|█         | 11/100 [00:14<01:58,  1.33s/it]"
     ]
    },
    {
     "name": "stdout",
     "output_type": "stream",
     "text": [
      "File: PMC13919.tar.gz size: 904607 bytes\n"
     ]
    },
    {
     "name": "stderr",
     "output_type": "stream",
     "text": [
      " 12%|█▏        | 12/100 [00:15<01:55,  1.31s/it]"
     ]
    },
    {
     "name": "stdout",
     "output_type": "stream",
     "text": [
      "File: PMC13920.tar.gz size: 116567 bytes\n"
     ]
    },
    {
     "name": "stderr",
     "output_type": "stream",
     "text": [
      " 13%|█▎        | 13/100 [00:16<01:47,  1.23s/it]"
     ]
    },
    {
     "name": "stdout",
     "output_type": "stream",
     "text": [
      "File: PMC13921.tar.gz size: 102676 bytes\n"
     ]
    },
    {
     "name": "stderr",
     "output_type": "stream",
     "text": [
      " 14%|█▍        | 14/100 [00:17<01:40,  1.17s/it]"
     ]
    },
    {
     "name": "stdout",
     "output_type": "stream",
     "text": [
      "File: PMC13922.tar.gz size: 1621237 bytes\n"
     ]
    },
    {
     "name": "stderr",
     "output_type": "stream",
     "text": [
      " 15%|█▌        | 15/100 [00:19<01:44,  1.23s/it]"
     ]
    },
    {
     "name": "stdout",
     "output_type": "stream",
     "text": [
      "File: PMC13923.tar.gz size: 1378984 bytes\n"
     ]
    },
    {
     "name": "stderr",
     "output_type": "stream",
     "text": [
      " 16%|█▌        | 16/100 [00:20<01:46,  1.27s/it]"
     ]
    },
    {
     "name": "stdout",
     "output_type": "stream",
     "text": [
      "File: PMC13924.tar.gz size: 199975 bytes\n"
     ]
    },
    {
     "name": "stderr",
     "output_type": "stream",
     "text": [
      " 17%|█▋        | 17/100 [00:21<01:42,  1.23s/it]"
     ]
    },
    {
     "name": "stdout",
     "output_type": "stream",
     "text": [
      "File: PMC14752.tar.gz size: 685837 bytes\n"
     ]
    },
    {
     "name": "stderr",
     "output_type": "stream",
     "text": [
      " 18%|█▊        | 18/100 [00:23<01:42,  1.25s/it]"
     ]
    },
    {
     "name": "stdout",
     "output_type": "stream",
     "text": [
      "File: PMC15015.tar.gz size: 8032007 bytes\n"
     ]
    },
    {
     "name": "stderr",
     "output_type": "stream",
     "text": [
      " 19%|█▉        | 19/100 [00:25<02:07,  1.58s/it]"
     ]
    },
    {
     "name": "stdout",
     "output_type": "stream",
     "text": [
      "File: PMC15016.tar.gz size: 1307756 bytes\n"
     ]
    },
    {
     "name": "stderr",
     "output_type": "stream",
     "text": [
      " 20%|██        | 20/100 [00:26<01:59,  1.50s/it]"
     ]
    },
    {
     "name": "stdout",
     "output_type": "stream",
     "text": [
      "File: PMC15023.tar.gz size: 9004765 bytes\n"
     ]
    },
    {
     "name": "stderr",
     "output_type": "stream",
     "text": [
      " 21%|██        | 21/100 [00:29<02:19,  1.76s/it]"
     ]
    },
    {
     "name": "stdout",
     "output_type": "stream",
     "text": [
      "File: PMC15024.tar.gz size: 170657 bytes\n"
     ]
    },
    {
     "name": "stderr",
     "output_type": "stream",
     "text": [
      " 22%|██▏       | 22/100 [00:30<01:58,  1.52s/it]"
     ]
    },
    {
     "name": "stdout",
     "output_type": "stream",
     "text": [
      "File: PMC15025.tar.gz size: 844786 bytes\n"
     ]
    },
    {
     "name": "stderr",
     "output_type": "stream",
     "text": [
      " 23%|██▎       | 23/100 [00:31<01:50,  1.44s/it]"
     ]
    },
    {
     "name": "stdout",
     "output_type": "stream",
     "text": [
      "File: PMC15026.tar.gz size: 754450 bytes\n"
     ]
    },
    {
     "name": "stderr",
     "output_type": "stream",
     "text": [
      " 24%|██▍       | 24/100 [00:32<01:46,  1.40s/it]"
     ]
    },
    {
     "name": "stdout",
     "output_type": "stream",
     "text": [
      "File: PMC15027.tar.gz size: 859007 bytes\n"
     ]
    },
    {
     "name": "stderr",
     "output_type": "stream",
     "text": [
      " 25%|██▌       | 25/100 [00:33<01:42,  1.36s/it]"
     ]
    },
    {
     "name": "stdout",
     "output_type": "stream",
     "text": [
      "File: PMC15028.tar.gz size: 630671 bytes\n"
     ]
    },
    {
     "name": "stderr",
     "output_type": "stream",
     "text": [
      " 26%|██▌       | 26/100 [00:35<01:46,  1.44s/it]"
     ]
    },
    {
     "name": "stdout",
     "output_type": "stream",
     "text": [
      "File: PMC16139.tar.gz size: 491655 bytes\n"
     ]
    },
    {
     "name": "stderr",
     "output_type": "stream",
     "text": [
      " 27%|██▋       | 27/100 [00:36<01:38,  1.35s/it]"
     ]
    },
    {
     "name": "stdout",
     "output_type": "stream",
     "text": [
      "File: PMC16141.tar.gz size: 2269913 bytes\n"
     ]
    },
    {
     "name": "stderr",
     "output_type": "stream",
     "text": [
      " 28%|██▊       | 28/100 [00:37<01:36,  1.34s/it]"
     ]
    },
    {
     "name": "stdout",
     "output_type": "stream",
     "text": [
      "File: PMC16144.tar.gz size: 888478 bytes\n"
     ]
    },
    {
     "name": "stderr",
     "output_type": "stream",
     "text": [
      " 29%|██▉       | 29/100 [00:39<01:33,  1.31s/it]"
     ]
    },
    {
     "name": "stdout",
     "output_type": "stream",
     "text": [
      "File: PMC16145.tar.gz size: 395543 bytes\n"
     ]
    },
    {
     "name": "stderr",
     "output_type": "stream",
     "text": [
      " 30%|███       | 30/100 [00:40<01:31,  1.31s/it]"
     ]
    },
    {
     "name": "stdout",
     "output_type": "stream",
     "text": [
      "File: PMC17597.tar.gz size: 394598 bytes\n"
     ]
    },
    {
     "name": "stderr",
     "output_type": "stream",
     "text": [
      " 31%|███       | 31/100 [00:41<01:26,  1.26s/it]"
     ]
    },
    {
     "name": "stdout",
     "output_type": "stream",
     "text": [
      "File: PMC17598.tar.gz size: 1081239 bytes\n"
     ]
    },
    {
     "name": "stderr",
     "output_type": "stream",
     "text": [
      " 32%|███▏      | 32/100 [00:42<01:25,  1.26s/it]"
     ]
    },
    {
     "name": "stdout",
     "output_type": "stream",
     "text": [
      "File: PMC17599.tar.gz size: 2282535 bytes\n"
     ]
    },
    {
     "name": "stderr",
     "output_type": "stream",
     "text": [
      " 33%|███▎      | 33/100 [00:44<01:27,  1.31s/it]"
     ]
    },
    {
     "name": "stdout",
     "output_type": "stream",
     "text": [
      "File: PMC17774.tar.gz size: 735629 bytes\n"
     ]
    },
    {
     "name": "stderr",
     "output_type": "stream",
     "text": [
      " 34%|███▍      | 34/100 [00:47<02:00,  1.83s/it]"
     ]
    },
    {
     "name": "stdout",
     "output_type": "stream",
     "text": [
      "File: PMC17776.tar.gz size: 1855391 bytes\n"
     ]
    },
    {
     "name": "stderr",
     "output_type": "stream",
     "text": [
      " 35%|███▌      | 35/100 [00:50<02:28,  2.28s/it]"
     ]
    },
    {
     "name": "stdout",
     "output_type": "stream",
     "text": [
      "File: PMC17779.tar.gz size: 2136644 bytes\n"
     ]
    },
    {
     "name": "stderr",
     "output_type": "stream",
     "text": [
      " 36%|███▌      | 36/100 [00:52<02:11,  2.06s/it]"
     ]
    },
    {
     "name": "stdout",
     "output_type": "stream",
     "text": [
      "File: PMC17803.tar.gz size: 1073430 bytes\n"
     ]
    },
    {
     "name": "stderr",
     "output_type": "stream",
     "text": [
      " 37%|███▋      | 37/100 [00:53<01:54,  1.82s/it]"
     ]
    },
    {
     "name": "stdout",
     "output_type": "stream",
     "text": [
      "File: PMC17804.tar.gz size: 563240 bytes\n"
     ]
    },
    {
     "name": "stderr",
     "output_type": "stream",
     "text": [
      " 38%|███▊      | 38/100 [00:54<01:41,  1.63s/it]"
     ]
    },
    {
     "name": "stdout",
     "output_type": "stream",
     "text": [
      "File: PMC17805.tar.gz size: 832447 bytes\n"
     ]
    },
    {
     "name": "stderr",
     "output_type": "stream",
     "text": [
      " 39%|███▉      | 39/100 [00:55<01:31,  1.50s/it]"
     ]
    },
    {
     "name": "stdout",
     "output_type": "stream",
     "text": [
      "File: PMC17806.tar.gz size: 496353 bytes\n"
     ]
    },
    {
     "name": "stderr",
     "output_type": "stream",
     "text": [
      " 40%|████      | 40/100 [00:57<01:25,  1.42s/it]"
     ]
    },
    {
     "name": "stdout",
     "output_type": "stream",
     "text": [
      "File: PMC17807.tar.gz size: 1634044 bytes\n"
     ]
    },
    {
     "name": "stderr",
     "output_type": "stream",
     "text": [
      " 41%|████      | 41/100 [00:58<01:20,  1.37s/it]"
     ]
    },
    {
     "name": "stdout",
     "output_type": "stream",
     "text": [
      "File: PMC17808.tar.gz size: 879653 bytes\n"
     ]
    },
    {
     "name": "stderr",
     "output_type": "stream",
     "text": [
      " 42%|████▏     | 42/100 [00:59<01:17,  1.33s/it]"
     ]
    },
    {
     "name": "stdout",
     "output_type": "stream",
     "text": [
      "File: PMC17809.tar.gz size: 829564 bytes\n"
     ]
    },
    {
     "name": "stderr",
     "output_type": "stream",
     "text": [
      " 43%|████▎     | 43/100 [01:00<01:13,  1.29s/it]"
     ]
    },
    {
     "name": "stdout",
     "output_type": "stream",
     "text": [
      "File: PMC17810.tar.gz size: 1407569 bytes\n"
     ]
    },
    {
     "name": "stderr",
     "output_type": "stream",
     "text": [
      " 44%|████▍     | 44/100 [01:02<01:12,  1.30s/it]"
     ]
    },
    {
     "name": "stdout",
     "output_type": "stream",
     "text": [
      "File: PMC17811.tar.gz size: 102895 bytes\n"
     ]
    },
    {
     "name": "stderr",
     "output_type": "stream",
     "text": [
      " 45%|████▌     | 45/100 [01:03<01:07,  1.22s/it]"
     ]
    },
    {
     "name": "stdout",
     "output_type": "stream",
     "text": [
      "File: PMC17812.tar.gz size: 2648793 bytes\n"
     ]
    },
    {
     "name": "stderr",
     "output_type": "stream",
     "text": [
      " 46%|████▌     | 46/100 [01:04<01:09,  1.29s/it]"
     ]
    },
    {
     "name": "stdout",
     "output_type": "stream",
     "text": [
      "File: PMC17813.tar.gz size: 2404403 bytes\n"
     ]
    },
    {
     "name": "stderr",
     "output_type": "stream",
     "text": [
      " 47%|████▋     | 47/100 [01:05<01:09,  1.31s/it]"
     ]
    },
    {
     "name": "stdout",
     "output_type": "stream",
     "text": [
      "File: PMC17814.tar.gz size: 938058 bytes\n"
     ]
    },
    {
     "name": "stderr",
     "output_type": "stream",
     "text": [
      " 48%|████▊     | 48/100 [01:07<01:06,  1.28s/it]"
     ]
    },
    {
     "name": "stdout",
     "output_type": "stream",
     "text": [
      "File: PMC17815.tar.gz size: 129469 bytes\n"
     ]
    },
    {
     "name": "stderr",
     "output_type": "stream",
     "text": [
      " 49%|████▉     | 49/100 [01:08<01:01,  1.20s/it]"
     ]
    },
    {
     "name": "stdout",
     "output_type": "stream",
     "text": [
      "File: PMC17816.tar.gz size: 251650 bytes\n"
     ]
    },
    {
     "name": "stderr",
     "output_type": "stream",
     "text": [
      " 50%|█████     | 50/100 [01:09<00:58,  1.18s/it]"
     ]
    },
    {
     "name": "stdout",
     "output_type": "stream",
     "text": [
      "File: PMC17817.tar.gz size: 971664 bytes\n"
     ]
    },
    {
     "name": "stderr",
     "output_type": "stream",
     "text": [
      " 51%|█████     | 51/100 [01:10<00:58,  1.19s/it]"
     ]
    },
    {
     "name": "stdout",
     "output_type": "stream",
     "text": [
      "File: PMC17818.tar.gz size: 321170 bytes\n"
     ]
    },
    {
     "name": "stderr",
     "output_type": "stream",
     "text": [
      " 52%|█████▏    | 52/100 [01:11<00:55,  1.15s/it]"
     ]
    },
    {
     "name": "stdout",
     "output_type": "stream",
     "text": [
      "File: PMC17819.tar.gz size: 1144961 bytes\n"
     ]
    },
    {
     "name": "stderr",
     "output_type": "stream",
     "text": [
      " 53%|█████▎    | 53/100 [01:13<00:57,  1.23s/it]"
     ]
    },
    {
     "name": "stdout",
     "output_type": "stream",
     "text": [
      "File: PMC17820.tar.gz size: 1641712 bytes\n"
     ]
    },
    {
     "name": "stderr",
     "output_type": "stream",
     "text": [
      " 54%|█████▍    | 54/100 [01:14<00:57,  1.25s/it]"
     ]
    },
    {
     "name": "stdout",
     "output_type": "stream",
     "text": [
      "File: PMC17821.tar.gz size: 997089 bytes\n"
     ]
    },
    {
     "name": "stderr",
     "output_type": "stream",
     "text": [
      " 55%|█████▌    | 55/100 [01:15<00:56,  1.27s/it]"
     ]
    },
    {
     "name": "stdout",
     "output_type": "stream",
     "text": [
      "File: PMC17822.tar.gz size: 551699 bytes\n"
     ]
    },
    {
     "name": "stderr",
     "output_type": "stream",
     "text": [
      " 56%|█████▌    | 56/100 [01:16<00:55,  1.27s/it]"
     ]
    },
    {
     "name": "stdout",
     "output_type": "stream",
     "text": [
      "File: PMC17823.tar.gz size: 363269 bytes\n"
     ]
    },
    {
     "name": "stderr",
     "output_type": "stream",
     "text": [
      " 57%|█████▋    | 57/100 [01:17<00:51,  1.20s/it]"
     ]
    },
    {
     "name": "stdout",
     "output_type": "stream",
     "text": [
      "File: PMC17824.tar.gz size: 599619 bytes\n"
     ]
    },
    {
     "name": "stderr",
     "output_type": "stream",
     "text": [
      " 58%|█████▊    | 58/100 [01:19<00:51,  1.22s/it]"
     ]
    },
    {
     "name": "stdout",
     "output_type": "stream",
     "text": [
      "File: PMC17825.tar.gz size: 1152324 bytes\n"
     ]
    },
    {
     "name": "stderr",
     "output_type": "stream",
     "text": [
      " 59%|█████▉    | 59/100 [01:20<00:49,  1.22s/it]"
     ]
    },
    {
     "name": "stdout",
     "output_type": "stream",
     "text": [
      "File: PMC17826.tar.gz size: 835561 bytes\n"
     ]
    },
    {
     "name": "stderr",
     "output_type": "stream",
     "text": [
      " 60%|██████    | 60/100 [01:21<00:49,  1.24s/it]"
     ]
    },
    {
     "name": "stdout",
     "output_type": "stream",
     "text": [
      "File: PMC17827.tar.gz size: 2468947 bytes\n"
     ]
    },
    {
     "name": "stderr",
     "output_type": "stream",
     "text": [
      " 61%|██████    | 61/100 [01:27<01:37,  2.49s/it]"
     ]
    },
    {
     "name": "stdout",
     "output_type": "stream",
     "text": [
      "File: PMC17828.tar.gz size: 1343971 bytes\n"
     ]
    },
    {
     "name": "stderr",
     "output_type": "stream",
     "text": [
      " 62%|██████▏   | 62/100 [01:28<01:22,  2.17s/it]"
     ]
    },
    {
     "name": "stdout",
     "output_type": "stream",
     "text": [
      "File: PMC17829.tar.gz size: 603916 bytes\n"
     ]
    },
    {
     "name": "stderr",
     "output_type": "stream",
     "text": [
      " 63%|██████▎   | 63/100 [01:29<01:10,  1.90s/it]"
     ]
    },
    {
     "name": "stdout",
     "output_type": "stream",
     "text": [
      "File: PMC25774.tar.gz size: 6364434 bytes\n"
     ]
    },
    {
     "name": "stderr",
     "output_type": "stream",
     "text": [
      " 64%|██████▍   | 64/100 [01:31<01:06,  1.85s/it]"
     ]
    },
    {
     "name": "stdout",
     "output_type": "stream",
     "text": [
      "File: PMC25775.tar.gz size: 1694695 bytes\n"
     ]
    },
    {
     "name": "stderr",
     "output_type": "stream",
     "text": [
      " 65%|██████▌   | 65/100 [01:32<00:58,  1.67s/it]"
     ]
    },
    {
     "name": "stdout",
     "output_type": "stream",
     "text": [
      "File: PMC25776.tar.gz size: 172405 bytes\n"
     ]
    },
    {
     "name": "stderr",
     "output_type": "stream",
     "text": [
      " 66%|██████▌   | 66/100 [01:33<00:49,  1.45s/it]"
     ]
    },
    {
     "name": "stdout",
     "output_type": "stream",
     "text": [
      "File: PMC28985.tar.gz size: 1165259 bytes\n"
     ]
    },
    {
     "name": "stderr",
     "output_type": "stream",
     "text": [
      " 67%|██████▋   | 67/100 [01:34<00:45,  1.39s/it]"
     ]
    },
    {
     "name": "stdout",
     "output_type": "stream",
     "text": [
      "File: PMC28986.tar.gz size: 302608 bytes\n"
     ]
    },
    {
     "name": "stderr",
     "output_type": "stream",
     "text": [
      " 68%|██████▊   | 68/100 [01:36<00:42,  1.31s/it]"
     ]
    },
    {
     "name": "stdout",
     "output_type": "stream",
     "text": [
      "File: PMC28987.tar.gz size: 118333 bytes\n"
     ]
    },
    {
     "name": "stderr",
     "output_type": "stream",
     "text": [
      " 69%|██████▉   | 69/100 [01:37<00:37,  1.22s/it]"
     ]
    },
    {
     "name": "stdout",
     "output_type": "stream",
     "text": [
      "File: PMC28988.tar.gz size: 121496 bytes\n"
     ]
    },
    {
     "name": "stderr",
     "output_type": "stream",
     "text": [
      " 70%|███████   | 70/100 [01:38<00:35,  1.17s/it]"
     ]
    },
    {
     "name": "stdout",
     "output_type": "stream",
     "text": [
      "File: PMC28989.tar.gz size: 146736 bytes\n"
     ]
    },
    {
     "name": "stderr",
     "output_type": "stream",
     "text": [
      " 71%|███████   | 71/100 [01:39<00:32,  1.12s/it]"
     ]
    },
    {
     "name": "stdout",
     "output_type": "stream",
     "text": [
      "File: PMC28990.tar.gz size: 99355 bytes\n"
     ]
    },
    {
     "name": "stderr",
     "output_type": "stream",
     "text": [
      " 72%|███████▏  | 72/100 [01:40<00:31,  1.11s/it]"
     ]
    },
    {
     "name": "stdout",
     "output_type": "stream",
     "text": [
      "File: PMC28991.tar.gz size: 6534 bytes\n"
     ]
    },
    {
     "name": "stderr",
     "output_type": "stream",
     "text": [
      " 73%|███████▎  | 73/100 [01:41<00:27,  1.02s/it]"
     ]
    },
    {
     "name": "stdout",
     "output_type": "stream",
     "text": [
      "File: PMC28992.tar.gz size: 10531 bytes\n"
     ]
    },
    {
     "name": "stderr",
     "output_type": "stream",
     "text": [
      " 74%|███████▍  | 74/100 [01:41<00:24,  1.05it/s]"
     ]
    },
    {
     "name": "stdout",
     "output_type": "stream",
     "text": [
      "File: PMC28993.tar.gz size: 10119 bytes\n"
     ]
    },
    {
     "name": "stderr",
     "output_type": "stream",
     "text": [
      " 75%|███████▌  | 75/100 [01:42<00:23,  1.07it/s]"
     ]
    },
    {
     "name": "stdout",
     "output_type": "stream",
     "text": [
      "File: PMC28994.tar.gz size: 9055 bytes\n"
     ]
    },
    {
     "name": "stderr",
     "output_type": "stream",
     "text": [
      " 76%|███████▌  | 76/100 [01:43<00:21,  1.14it/s]"
     ]
    },
    {
     "name": "stdout",
     "output_type": "stream",
     "text": [
      "File: PMC28995.tar.gz size: 130264 bytes\n"
     ]
    },
    {
     "name": "stderr",
     "output_type": "stream",
     "text": [
      " 77%|███████▋  | 77/100 [01:44<00:21,  1.07it/s]"
     ]
    },
    {
     "name": "stdout",
     "output_type": "stream",
     "text": [
      "File: PMC28996.tar.gz size: 76186 bytes\n"
     ]
    },
    {
     "name": "stderr",
     "output_type": "stream",
     "text": [
      " 78%|███████▊  | 78/100 [01:45<00:20,  1.06it/s]"
     ]
    },
    {
     "name": "stdout",
     "output_type": "stream",
     "text": [
      "File: PMC28997.tar.gz size: 11338 bytes\n"
     ]
    },
    {
     "name": "stderr",
     "output_type": "stream",
     "text": [
      " 79%|███████▉  | 79/100 [01:46<00:18,  1.15it/s]"
     ]
    },
    {
     "name": "stdout",
     "output_type": "stream",
     "text": [
      "File: PMC28998.tar.gz size: 7731 bytes\n"
     ]
    },
    {
     "name": "stderr",
     "output_type": "stream",
     "text": [
      " 80%|████████  | 80/100 [01:46<00:16,  1.20it/s]"
     ]
    },
    {
     "name": "stdout",
     "output_type": "stream",
     "text": [
      "File: PMC28999.tar.gz size: 11962 bytes\n"
     ]
    },
    {
     "name": "stderr",
     "output_type": "stream",
     "text": [
      " 81%|████████  | 81/100 [01:47<00:15,  1.26it/s]"
     ]
    },
    {
     "name": "stdout",
     "output_type": "stream",
     "text": [
      "File: PMC29000.tar.gz size: 38067 bytes\n"
     ]
    },
    {
     "name": "stderr",
     "output_type": "stream",
     "text": [
      " 82%|████████▏ | 82/100 [01:48<00:14,  1.23it/s]"
     ]
    },
    {
     "name": "stdout",
     "output_type": "stream",
     "text": [
      "File: PMC29001.tar.gz size: 14723 bytes\n"
     ]
    },
    {
     "name": "stderr",
     "output_type": "stream",
     "text": [
      " 83%|████████▎ | 83/100 [01:49<00:13,  1.22it/s]"
     ]
    },
    {
     "name": "stdout",
     "output_type": "stream",
     "text": [
      "File: PMC29002.tar.gz size: 57256 bytes\n"
     ]
    },
    {
     "name": "stderr",
     "output_type": "stream",
     "text": [
      " 84%|████████▍ | 84/100 [01:50<00:14,  1.14it/s]"
     ]
    },
    {
     "name": "stdout",
     "output_type": "stream",
     "text": [
      "File: PMC29003.tar.gz size: 13664 bytes\n"
     ]
    },
    {
     "name": "stderr",
     "output_type": "stream",
     "text": [
      " 85%|████████▌ | 85/100 [01:51<00:12,  1.21it/s]"
     ]
    },
    {
     "name": "stdout",
     "output_type": "stream",
     "text": [
      "File: PMC29004.tar.gz size: 104722 bytes\n"
     ]
    },
    {
     "name": "stderr",
     "output_type": "stream",
     "text": [
      " 86%|████████▌ | 86/100 [01:52<00:13,  1.02it/s]"
     ]
    },
    {
     "name": "stdout",
     "output_type": "stream",
     "text": [
      "File: PMC29005.tar.gz size: 314438 bytes\n"
     ]
    },
    {
     "name": "stderr",
     "output_type": "stream",
     "text": [
      " 87%|████████▋ | 87/100 [01:53<00:12,  1.01it/s]"
     ]
    },
    {
     "name": "stdout",
     "output_type": "stream",
     "text": [
      "File: PMC29006.tar.gz size: 117859 bytes\n"
     ]
    },
    {
     "name": "stderr",
     "output_type": "stream",
     "text": [
      " 88%|████████▊ | 88/100 [01:54<00:11,  1.01it/s]"
     ]
    },
    {
     "name": "stdout",
     "output_type": "stream",
     "text": [
      "File: PMC29007.tar.gz size: 222331 bytes\n"
     ]
    },
    {
     "name": "stderr",
     "output_type": "stream",
     "text": [
      " 89%|████████▉ | 89/100 [01:55<00:11,  1.02s/it]"
     ]
    },
    {
     "name": "stdout",
     "output_type": "stream",
     "text": [
      "File: PMC29008.tar.gz size: 103557 bytes\n"
     ]
    },
    {
     "name": "stderr",
     "output_type": "stream",
     "text": [
      " 90%|█████████ | 90/100 [01:56<00:09,  1.00it/s]"
     ]
    },
    {
     "name": "stdout",
     "output_type": "stream",
     "text": [
      "File: PMC29009.tar.gz size: 954097 bytes\n"
     ]
    },
    {
     "name": "stderr",
     "output_type": "stream",
     "text": [
      " 91%|█████████ | 91/100 [01:57<00:09,  1.06s/it]"
     ]
    },
    {
     "name": "stdout",
     "output_type": "stream",
     "text": [
      "File: PMC29010.tar.gz size: 146881 bytes\n"
     ]
    },
    {
     "name": "stderr",
     "output_type": "stream",
     "text": [
      " 92%|█████████▏| 92/100 [01:58<00:08,  1.04s/it]"
     ]
    },
    {
     "name": "stdout",
     "output_type": "stream",
     "text": [
      "File: PMC29011.tar.gz size: 145990 bytes\n"
     ]
    },
    {
     "name": "stderr",
     "output_type": "stream",
     "text": [
      " 93%|█████████▎| 93/100 [01:59<00:07,  1.05s/it]"
     ]
    },
    {
     "name": "stdout",
     "output_type": "stream",
     "text": [
      "File: PMC29012.tar.gz size: 203809 bytes\n"
     ]
    },
    {
     "name": "stderr",
     "output_type": "stream",
     "text": [
      " 94%|█████████▍| 94/100 [02:00<00:06,  1.04s/it]"
     ]
    },
    {
     "name": "stdout",
     "output_type": "stream",
     "text": [
      "File: PMC29013.tar.gz size: 666149 bytes\n"
     ]
    },
    {
     "name": "stderr",
     "output_type": "stream",
     "text": [
      " 95%|█████████▌| 95/100 [02:02<00:05,  1.11s/it]"
     ]
    },
    {
     "name": "stdout",
     "output_type": "stream",
     "text": [
      "File: PMC29014.tar.gz size: 235216 bytes\n"
     ]
    },
    {
     "name": "stderr",
     "output_type": "stream",
     "text": [
      " 96%|█████████▌| 96/100 [02:03<00:04,  1.12s/it]"
     ]
    },
    {
     "name": "stdout",
     "output_type": "stream",
     "text": [
      "File: PMC29015.tar.gz size: 273495 bytes\n"
     ]
    },
    {
     "name": "stderr",
     "output_type": "stream",
     "text": [
      " 97%|█████████▋| 97/100 [02:04<00:03,  1.13s/it]"
     ]
    },
    {
     "name": "stdout",
     "output_type": "stream",
     "text": [
      "File: PMC29016.tar.gz size: 244114 bytes\n"
     ]
    },
    {
     "name": "stderr",
     "output_type": "stream",
     "text": [
      " 98%|█████████▊| 98/100 [02:05<00:02,  1.15s/it]"
     ]
    },
    {
     "name": "stdout",
     "output_type": "stream",
     "text": [
      "File: PMC29017.tar.gz size: 138825 bytes\n"
     ]
    },
    {
     "name": "stderr",
     "output_type": "stream",
     "text": [
      " 99%|█████████▉| 99/100 [02:06<00:01,  1.18s/it]"
     ]
    },
    {
     "name": "stdout",
     "output_type": "stream",
     "text": [
      "File: PMC29018.tar.gz size: 137266 bytes\n"
     ]
    },
    {
     "name": "stderr",
     "output_type": "stream",
     "text": [
      "100%|██████████| 100/100 [02:07<00:00,  1.27s/it]"
     ]
    },
    {
     "name": "stdout",
     "output_type": "stream",
     "text": [
      "Skipped 0 files.\n"
     ]
    },
    {
     "name": "stderr",
     "output_type": "stream",
     "text": [
      "\n"
     ]
    }
   ],
   "source": [
    "# remove the subset_size argument to download all files\n",
    "downloaded_articles_output_path = repo_root / \"_results\" / \"data\" / \"pubmed_open_access_files_compressed\"\n",
    "\n",
    "data.download_pubmed_files_from_list(\n",
    "    file_list_path=list_output_path,\n",
    "    output_folder_path=downloaded_articles_output_path,\n",
    "    subset_size=MAX_ITEMS_TO_PROCESS,\n",
    ")"
   ]
  },
  {
   "cell_type": "code",
   "execution_count": 6,
   "metadata": {},
   "outputs": [
    {
     "name": "stdout",
     "output_type": "stream",
     "text": [
      "Found 100 files that match *.tar.gz in /workspaces/biomedclip_data_pipeline/_results/data/pubmed_open_access_files_compressed\n"
     ]
    },
    {
     "name": "stderr",
     "output_type": "stream",
     "text": [
      "100%|██████████| 100/100 [00:08<00:00, 11.32it/s]"
     ]
    },
    {
     "name": "stdout",
     "output_type": "stream",
     "text": [
      "Finished extracting 100 files\n"
     ]
    },
    {
     "name": "stderr",
     "output_type": "stream",
     "text": [
      "\n"
     ]
    }
   ],
   "source": [
    "decompressed_folder_path = repo_root / \"_results\" / \"data\" / \"pubmed_open_access_files\"\n",
    "\n",
    "data.decompress_pubmed_files(\n",
    "    input_folder_path=downloaded_articles_output_path,\n",
    "    output_folder_path=decompressed_folder_path,\n",
    ")"
   ]
  },
  {
   "cell_type": "code",
   "execution_count": 7,
   "metadata": {},
   "outputs": [
    {
     "name": "stdout",
     "output_type": "stream",
     "text": [
      "/workspaces/biomedclip_data_pipeline/_results/data/pubmed_open_access_files/PMC13900/BCR-3-1-055.nxml\n",
      "starting...\n",
      "parsed /workspaces/biomedclip_data_pipeline/_results/data/pubmed_open_access_files/PMC13900/BCR-3-1-055.nxml\n",
      "no output\n",
      "/workspaces/biomedclip_data_pipeline/_results/data/pubmed_open_access_files/PMC13901/BCR-3-1-061.nxml\n",
      "starting...\n",
      "parsed /workspaces/biomedclip_data_pipeline/_results/data/pubmed_open_access_files/PMC13901/BCR-3-1-061.nxml\n",
      "/workspaces/biomedclip_data_pipeline/_results/data/pubmed_open_access_files/PMC13902/BCR-3-1-066.nxml\n",
      "starting...\n",
      "parsed /workspaces/biomedclip_data_pipeline/_results/data/pubmed_open_access_files/PMC13902/BCR-3-1-066.nxml\n",
      "/workspaces/biomedclip_data_pipeline/_results/data/pubmed_open_access_files/PMC13911/bcr-2-1-059.nxml\n",
      "starting...\n",
      "parsed /workspaces/biomedclip_data_pipeline/_results/data/pubmed_open_access_files/PMC13911/bcr-2-1-059.nxml\n",
      "no output\n",
      "/workspaces/biomedclip_data_pipeline/_results/data/pubmed_open_access_files/PMC13912/bcr-2-1-064.nxml\n",
      "starting...\n",
      "parsed /workspaces/biomedclip_data_pipeline/_results/data/pubmed_open_access_files/PMC13912/bcr-2-1-064.nxml\n",
      "/workspaces/biomedclip_data_pipeline/_results/data/pubmed_open_access_files/PMC13913/bcr-1-1-073.nxml\n",
      "starting...\n",
      "parsed /workspaces/biomedclip_data_pipeline/_results/data/pubmed_open_access_files/PMC13913/bcr-1-1-073.nxml\n",
      "/workspaces/biomedclip_data_pipeline/_results/data/pubmed_open_access_files/PMC13914/bcr-1-1-081.nxml\n",
      "starting...\n",
      "parsed /workspaces/biomedclip_data_pipeline/_results/data/pubmed_open_access_files/PMC13914/bcr-1-1-081.nxml\n",
      "/workspaces/biomedclip_data_pipeline/_results/data/pubmed_open_access_files/PMC13915/bcr-1-1-088.nxml\n",
      "starting...\n",
      "parsed /workspaces/biomedclip_data_pipeline/_results/data/pubmed_open_access_files/PMC13915/bcr-1-1-088.nxml\n",
      "/workspaces/biomedclip_data_pipeline/_results/data/pubmed_open_access_files/PMC13916/bcr-2-2-139.nxml\n",
      "starting...\n",
      "parsed /workspaces/biomedclip_data_pipeline/_results/data/pubmed_open_access_files/PMC13916/bcr-2-2-139.nxml\n",
      "/workspaces/biomedclip_data_pipeline/_results/data/pubmed_open_access_files/PMC13917/bcr-2-3-222.nxml\n",
      "starting...\n",
      "parsed /workspaces/biomedclip_data_pipeline/_results/data/pubmed_open_access_files/PMC13917/bcr-2-3-222.nxml\n",
      "/workspaces/biomedclip_data_pipeline/_results/data/pubmed_open_access_files/PMC13918/bcr-2-4-307.nxml\n",
      "starting...\n",
      "parsed /workspaces/biomedclip_data_pipeline/_results/data/pubmed_open_access_files/PMC13918/bcr-2-4-307.nxml\n",
      "no output\n",
      "/workspaces/biomedclip_data_pipeline/_results/data/pubmed_open_access_files/PMC13919/bcr-2-4-311.nxml\n",
      "starting...\n",
      "parsed /workspaces/biomedclip_data_pipeline/_results/data/pubmed_open_access_files/PMC13919/bcr-2-4-311.nxml\n",
      "/workspaces/biomedclip_data_pipeline/_results/data/pubmed_open_access_files/PMC13920/bcr-2-5-378.nxml\n",
      "starting...\n",
      "parsed /workspaces/biomedclip_data_pipeline/_results/data/pubmed_open_access_files/PMC13920/bcr-2-5-378.nxml\n",
      "no output\n",
      "/workspaces/biomedclip_data_pipeline/_results/data/pubmed_open_access_files/PMC13921/bcr-2-6-438.nxml\n",
      "starting...\n",
      "parsed /workspaces/biomedclip_data_pipeline/_results/data/pubmed_open_access_files/PMC13921/bcr-2-6-438.nxml\n",
      "no output\n",
      "/workspaces/biomedclip_data_pipeline/_results/data/pubmed_open_access_files/PMC13922/bcr-2-6-444.nxml\n",
      "starting...\n",
      "parsed /workspaces/biomedclip_data_pipeline/_results/data/pubmed_open_access_files/PMC13922/bcr-2-6-444.nxml\n",
      "/workspaces/biomedclip_data_pipeline/_results/data/pubmed_open_access_files/PMC13923/BCR-3-2-122.nxml\n",
      "starting...\n",
      "parsed /workspaces/biomedclip_data_pipeline/_results/data/pubmed_open_access_files/PMC13923/BCR-3-2-122.nxml\n",
      "/workspaces/biomedclip_data_pipeline/_results/data/pubmed_open_access_files/PMC13924/BCR-3-2-134.nxml\n",
      "starting...\n",
      "parsed /workspaces/biomedclip_data_pipeline/_results/data/pubmed_open_access_files/PMC13924/BCR-3-2-134.nxml\n",
      "no output\n",
      "/workspaces/biomedclip_data_pipeline/_results/data/pubmed_open_access_files/PMC14752/mk000001.nxml\n",
      "starting...\n",
      "parsed /workspaces/biomedclip_data_pipeline/_results/data/pubmed_open_access_files/PMC14752/mk000001.nxml\n",
      "/workspaces/biomedclip_data_pipeline/_results/data/pubmed_open_access_files/PMC15015/gb-2000-1-2-research0003.nxml\n",
      "starting...\n",
      "parsed /workspaces/biomedclip_data_pipeline/_results/data/pubmed_open_access_files/PMC15015/gb-2000-1-2-research0003.nxml\n",
      "/workspaces/biomedclip_data_pipeline/_results/data/pubmed_open_access_files/PMC15016/gb-2000-1-2-research0004.nxml\n",
      "starting...\n",
      "parsed /workspaces/biomedclip_data_pipeline/_results/data/pubmed_open_access_files/PMC15016/gb-2000-1-2-research0004.nxml\n",
      "/workspaces/biomedclip_data_pipeline/_results/data/pubmed_open_access_files/PMC15023/gb-2000-1-3-research0005.nxml\n",
      "starting...\n",
      "parsed /workspaces/biomedclip_data_pipeline/_results/data/pubmed_open_access_files/PMC15023/gb-2000-1-3-research0005.nxml\n",
      "/workspaces/biomedclip_data_pipeline/_results/data/pubmed_open_access_files/PMC15024/gb-2000-1-3-research0006.nxml\n",
      "starting...\n",
      "parsed /workspaces/biomedclip_data_pipeline/_results/data/pubmed_open_access_files/PMC15024/gb-2000-1-3-research0006.nxml\n",
      "/workspaces/biomedclip_data_pipeline/_results/data/pubmed_open_access_files/PMC15025/gb-2000-1-4-research0007.nxml\n",
      "starting...\n",
      "parsed /workspaces/biomedclip_data_pipeline/_results/data/pubmed_open_access_files/PMC15025/gb-2000-1-4-research0007.nxml\n",
      "/workspaces/biomedclip_data_pipeline/_results/data/pubmed_open_access_files/PMC15026/gb-2000-1-4-research0008.nxml\n",
      "starting...\n",
      "parsed /workspaces/biomedclip_data_pipeline/_results/data/pubmed_open_access_files/PMC15026/gb-2000-1-4-research0008.nxml\n",
      "/workspaces/biomedclip_data_pipeline/_results/data/pubmed_open_access_files/PMC15027/gb-2000-1-5-research0009.nxml\n",
      "starting...\n",
      "parsed /workspaces/biomedclip_data_pipeline/_results/data/pubmed_open_access_files/PMC15027/gb-2000-1-5-research0009.nxml\n",
      "/workspaces/biomedclip_data_pipeline/_results/data/pubmed_open_access_files/PMC15028/gb-2000-1-5-research0010.nxml\n",
      "starting...\n",
      "parsed /workspaces/biomedclip_data_pipeline/_results/data/pubmed_open_access_files/PMC15028/gb-2000-1-5-research0010.nxml\n",
      "/workspaces/biomedclip_data_pipeline/_results/data/pubmed_open_access_files/PMC16139/gb-2000-1-6-research0011.nxml\n",
      "starting...\n",
      "parsed /workspaces/biomedclip_data_pipeline/_results/data/pubmed_open_access_files/PMC16139/gb-2000-1-6-research0011.nxml\n",
      "/workspaces/biomedclip_data_pipeline/_results/data/pubmed_open_access_files/PMC16141/gb-2000-1-6-research0012.nxml\n",
      "starting...\n",
      "parsed /workspaces/biomedclip_data_pipeline/_results/data/pubmed_open_access_files/PMC16141/gb-2000-1-6-research0012.nxml\n",
      "/workspaces/biomedclip_data_pipeline/_results/data/pubmed_open_access_files/PMC16144/gb-2000-1-6-research0013.nxml\n",
      "starting...\n",
      "parsed /workspaces/biomedclip_data_pipeline/_results/data/pubmed_open_access_files/PMC16144/gb-2000-1-6-research0013.nxml\n",
      "/workspaces/biomedclip_data_pipeline/_results/data/pubmed_open_access_files/PMC16145/gb-2000-1-6-research0014.nxml\n",
      "starting...\n",
      "parsed /workspaces/biomedclip_data_pipeline/_results/data/pubmed_open_access_files/PMC16145/gb-2000-1-6-research0014.nxml\n",
      "/workspaces/biomedclip_data_pipeline/_results/data/pubmed_open_access_files/PMC17597/gb-2000-2-1-research0001.nxml\n",
      "starting...\n",
      "parsed /workspaces/biomedclip_data_pipeline/_results/data/pubmed_open_access_files/PMC17597/gb-2000-2-1-research0001.nxml\n",
      "/workspaces/biomedclip_data_pipeline/_results/data/pubmed_open_access_files/PMC17598/gb-2000-2-1-research0002.nxml\n",
      "starting...\n",
      "parsed /workspaces/biomedclip_data_pipeline/_results/data/pubmed_open_access_files/PMC17598/gb-2000-2-1-research0002.nxml\n",
      "/workspaces/biomedclip_data_pipeline/_results/data/pubmed_open_access_files/PMC17599/gb-2001-2-1-research0003.nxml\n",
      "starting...\n",
      "parsed /workspaces/biomedclip_data_pipeline/_results/data/pubmed_open_access_files/PMC17599/gb-2001-2-1-research0003.nxml\n",
      "/workspaces/biomedclip_data_pipeline/_results/data/pubmed_open_access_files/PMC17774/ar-1-1-063.nxml\n",
      "starting...\n",
      "parsed /workspaces/biomedclip_data_pipeline/_results/data/pubmed_open_access_files/PMC17774/ar-1-1-063.nxml\n",
      "/workspaces/biomedclip_data_pipeline/_results/data/pubmed_open_access_files/PMC17776/ar-1-1-071.nxml\n",
      "starting...\n",
      "parsed /workspaces/biomedclip_data_pipeline/_results/data/pubmed_open_access_files/PMC17776/ar-1-1-071.nxml\n",
      "/workspaces/biomedclip_data_pipeline/_results/data/pubmed_open_access_files/PMC17779/ar-1-1-081.nxml\n",
      "starting...\n",
      "parsed /workspaces/biomedclip_data_pipeline/_results/data/pubmed_open_access_files/PMC17779/ar-1-1-081.nxml\n",
      "/workspaces/biomedclip_data_pipeline/_results/data/pubmed_open_access_files/PMC17803/ar-2-1-050.nxml\n",
      "starting...\n",
      "parsed /workspaces/biomedclip_data_pipeline/_results/data/pubmed_open_access_files/PMC17803/ar-2-1-050.nxml\n",
      "/workspaces/biomedclip_data_pipeline/_results/data/pubmed_open_access_files/PMC17804/ar-2-1-059.nxml\n",
      "starting...\n",
      "parsed /workspaces/biomedclip_data_pipeline/_results/data/pubmed_open_access_files/PMC17804/ar-2-1-059.nxml\n",
      "/workspaces/biomedclip_data_pipeline/_results/data/pubmed_open_access_files/PMC17805/ar-2-1-065.nxml\n",
      "starting...\n",
      "parsed /workspaces/biomedclip_data_pipeline/_results/data/pubmed_open_access_files/PMC17805/ar-2-1-065.nxml\n",
      "/workspaces/biomedclip_data_pipeline/_results/data/pubmed_open_access_files/PMC17806/ar-2-1-075.nxml\n",
      "starting...\n",
      "parsed /workspaces/biomedclip_data_pipeline/_results/data/pubmed_open_access_files/PMC17806/ar-2-1-075.nxml\n",
      "/workspaces/biomedclip_data_pipeline/_results/data/pubmed_open_access_files/PMC17807/ar-2-2-142.nxml\n",
      "starting...\n",
      "parsed /workspaces/biomedclip_data_pipeline/_results/data/pubmed_open_access_files/PMC17807/ar-2-2-142.nxml\n",
      "/workspaces/biomedclip_data_pipeline/_results/data/pubmed_open_access_files/PMC17808/ar-2-2-145.nxml\n",
      "starting...\n",
      "parsed /workspaces/biomedclip_data_pipeline/_results/data/pubmed_open_access_files/PMC17808/ar-2-2-145.nxml\n",
      "/workspaces/biomedclip_data_pipeline/_results/data/pubmed_open_access_files/PMC17809/ar-2-2-154.nxml\n",
      "starting...\n",
      "parsed /workspaces/biomedclip_data_pipeline/_results/data/pubmed_open_access_files/PMC17809/ar-2-2-154.nxml\n",
      "/workspaces/biomedclip_data_pipeline/_results/data/pubmed_open_access_files/PMC17810/ar-2-3-229.nxml\n",
      "starting...\n",
      "parsed /workspaces/biomedclip_data_pipeline/_results/data/pubmed_open_access_files/PMC17810/ar-2-3-229.nxml\n",
      "/workspaces/biomedclip_data_pipeline/_results/data/pubmed_open_access_files/PMC17811/ar-2-3-236.nxml\n",
      "starting...\n",
      "parsed /workspaces/biomedclip_data_pipeline/_results/data/pubmed_open_access_files/PMC17811/ar-2-3-236.nxml\n",
      "no output\n",
      "/workspaces/biomedclip_data_pipeline/_results/data/pubmed_open_access_files/PMC17812/ar-2-4-293.nxml\n",
      "starting...\n",
      "parsed /workspaces/biomedclip_data_pipeline/_results/data/pubmed_open_access_files/PMC17812/ar-2-4-293.nxml\n",
      "/workspaces/biomedclip_data_pipeline/_results/data/pubmed_open_access_files/PMC17813/ar-2-4-303.nxml\n",
      "starting...\n",
      "parsed /workspaces/biomedclip_data_pipeline/_results/data/pubmed_open_access_files/PMC17813/ar-2-4-303.nxml\n",
      "/workspaces/biomedclip_data_pipeline/_results/data/pubmed_open_access_files/PMC17814/ar-2-4-315.nxml\n",
      "starting...\n",
      "parsed /workspaces/biomedclip_data_pipeline/_results/data/pubmed_open_access_files/PMC17814/ar-2-4-315.nxml\n",
      "/workspaces/biomedclip_data_pipeline/_results/data/pubmed_open_access_files/PMC17815/ar-2-4-327.nxml\n",
      "starting...\n",
      "parsed /workspaces/biomedclip_data_pipeline/_results/data/pubmed_open_access_files/PMC17815/ar-2-4-327.nxml\n",
      "no output\n",
      "/workspaces/biomedclip_data_pipeline/_results/data/pubmed_open_access_files/PMC17816/ar-2-5-399.nxml\n",
      "starting...\n",
      "parsed /workspaces/biomedclip_data_pipeline/_results/data/pubmed_open_access_files/PMC17816/ar-2-5-399.nxml\n",
      "/workspaces/biomedclip_data_pipeline/_results/data/pubmed_open_access_files/PMC17817/ar-2-5-407.nxml\n",
      "starting...\n",
      "parsed /workspaces/biomedclip_data_pipeline/_results/data/pubmed_open_access_files/PMC17817/ar-2-5-407.nxml\n",
      "/workspaces/biomedclip_data_pipeline/_results/data/pubmed_open_access_files/PMC17818/ar-2-5-415.nxml\n",
      "starting...\n",
      "parsed /workspaces/biomedclip_data_pipeline/_results/data/pubmed_open_access_files/PMC17818/ar-2-5-415.nxml\n",
      "/workspaces/biomedclip_data_pipeline/_results/data/pubmed_open_access_files/PMC17819/ar-2-5-424.nxml\n",
      "starting...\n",
      "parsed /workspaces/biomedclip_data_pipeline/_results/data/pubmed_open_access_files/PMC17819/ar-2-5-424.nxml\n",
      "/workspaces/biomedclip_data_pipeline/_results/data/pubmed_open_access_files/PMC17820/ar-2-6-477.nxml\n",
      "starting...\n",
      "parsed /workspaces/biomedclip_data_pipeline/_results/data/pubmed_open_access_files/PMC17820/ar-2-6-477.nxml\n",
      "/workspaces/biomedclip_data_pipeline/_results/data/pubmed_open_access_files/PMC17821/ar-2-6-489.nxml\n",
      "starting...\n",
      "parsed /workspaces/biomedclip_data_pipeline/_results/data/pubmed_open_access_files/PMC17821/ar-2-6-489.nxml\n",
      "/workspaces/biomedclip_data_pipeline/_results/data/pubmed_open_access_files/PMC17822/ar-2-6-504.nxml\n",
      "starting...\n",
      "parsed /workspaces/biomedclip_data_pipeline/_results/data/pubmed_open_access_files/PMC17822/ar-2-6-504.nxml\n",
      "/workspaces/biomedclip_data_pipeline/_results/data/pubmed_open_access_files/PMC17823/AR-3-1-041.nxml\n",
      "starting...\n",
      "parsed /workspaces/biomedclip_data_pipeline/_results/data/pubmed_open_access_files/PMC17823/AR-3-1-041.nxml\n",
      "/workspaces/biomedclip_data_pipeline/_results/data/pubmed_open_access_files/PMC17824/AR-3-1-048.nxml\n",
      "starting...\n",
      "parsed /workspaces/biomedclip_data_pipeline/_results/data/pubmed_open_access_files/PMC17824/AR-3-1-048.nxml\n",
      "/workspaces/biomedclip_data_pipeline/_results/data/pubmed_open_access_files/PMC17825/AR-3-1-054.nxml\n",
      "starting...\n",
      "parsed /workspaces/biomedclip_data_pipeline/_results/data/pubmed_open_access_files/PMC17825/AR-3-1-054.nxml\n",
      "/workspaces/biomedclip_data_pipeline/_results/data/pubmed_open_access_files/PMC17826/AR-3-1-065.nxml\n",
      "starting...\n",
      "parsed /workspaces/biomedclip_data_pipeline/_results/data/pubmed_open_access_files/PMC17826/AR-3-1-065.nxml\n",
      "/workspaces/biomedclip_data_pipeline/_results/data/pubmed_open_access_files/PMC17827/AR-3-1-072.nxml\n",
      "starting...\n",
      "parsed /workspaces/biomedclip_data_pipeline/_results/data/pubmed_open_access_files/PMC17827/AR-3-1-072.nxml\n",
      "/workspaces/biomedclip_data_pipeline/_results/data/pubmed_open_access_files/PMC17828/ar-3-2-118.nxml\n",
      "starting...\n",
      "parsed /workspaces/biomedclip_data_pipeline/_results/data/pubmed_open_access_files/PMC17828/ar-3-2-118.nxml\n",
      "/workspaces/biomedclip_data_pipeline/_results/data/pubmed_open_access_files/PMC17829/ar-3-2-127.nxml\n",
      "starting...\n",
      "parsed /workspaces/biomedclip_data_pipeline/_results/data/pubmed_open_access_files/PMC17829/ar-3-2-127.nxml\n",
      "/workspaces/biomedclip_data_pipeline/_results/data/pubmed_open_access_files/PMC25774/gb-2001-2-2-research0004.nxml\n",
      "starting...\n",
      "parsed /workspaces/biomedclip_data_pipeline/_results/data/pubmed_open_access_files/PMC25774/gb-2001-2-2-research0004.nxml\n",
      "/workspaces/biomedclip_data_pipeline/_results/data/pubmed_open_access_files/PMC25775/gb-2001-2-2-research0005.nxml\n",
      "starting...\n",
      "parsed /workspaces/biomedclip_data_pipeline/_results/data/pubmed_open_access_files/PMC25775/gb-2001-2-2-research0005.nxml\n",
      "/workspaces/biomedclip_data_pipeline/_results/data/pubmed_open_access_files/PMC25776/gb-2001-2-2-research0006.nxml\n",
      "starting...\n",
      "parsed /workspaces/biomedclip_data_pipeline/_results/data/pubmed_open_access_files/PMC25776/gb-2001-2-2-research0006.nxml\n",
      "/workspaces/biomedclip_data_pipeline/_results/data/pubmed_open_access_files/PMC28985/cc-1-1-015.nxml\n",
      "starting...\n",
      "parsed /workspaces/biomedclip_data_pipeline/_results/data/pubmed_open_access_files/PMC28985/cc-1-1-015.nxml\n",
      "/workspaces/biomedclip_data_pipeline/_results/data/pubmed_open_access_files/PMC28986/cc-1-1-025.nxml\n",
      "starting...\n",
      "parsed /workspaces/biomedclip_data_pipeline/_results/data/pubmed_open_access_files/PMC28986/cc-1-1-025.nxml\n",
      "/workspaces/biomedclip_data_pipeline/_results/data/pubmed_open_access_files/PMC28987/cc-1-1-041.nxml\n",
      "starting...\n",
      "parsed /workspaces/biomedclip_data_pipeline/_results/data/pubmed_open_access_files/PMC28987/cc-1-1-041.nxml\n",
      "/workspaces/biomedclip_data_pipeline/_results/data/pubmed_open_access_files/PMC28988/cc-1-1-045.nxml\n",
      "starting...\n",
      "parsed /workspaces/biomedclip_data_pipeline/_results/data/pubmed_open_access_files/PMC28988/cc-1-1-045.nxml\n",
      "/workspaces/biomedclip_data_pipeline/_results/data/pubmed_open_access_files/PMC28989/cc-1-2-065.nxml\n",
      "starting...\n",
      "parsed /workspaces/biomedclip_data_pipeline/_results/data/pubmed_open_access_files/PMC28989/cc-1-2-065.nxml\n",
      "/workspaces/biomedclip_data_pipeline/_results/data/pubmed_open_access_files/PMC28990/cc-1-2-071.nxml\n",
      "starting...\n",
      "parsed /workspaces/biomedclip_data_pipeline/_results/data/pubmed_open_access_files/PMC28990/cc-1-2-071.nxml\n",
      "/workspaces/biomedclip_data_pipeline/_results/data/pubmed_open_access_files/PMC28991/cc-1-2-075.nxml\n",
      "starting...\n",
      "parsed /workspaces/biomedclip_data_pipeline/_results/data/pubmed_open_access_files/PMC28991/cc-1-2-075.nxml\n",
      "no output\n",
      "/workspaces/biomedclip_data_pipeline/_results/data/pubmed_open_access_files/PMC28992/cc-1-2-079.nxml\n",
      "starting...\n",
      "parsed /workspaces/biomedclip_data_pipeline/_results/data/pubmed_open_access_files/PMC28992/cc-1-2-079.nxml\n",
      "no output\n",
      "/workspaces/biomedclip_data_pipeline/_results/data/pubmed_open_access_files/PMC28993/cc-1-3-095.nxml\n",
      "starting...\n",
      "parsed /workspaces/biomedclip_data_pipeline/_results/data/pubmed_open_access_files/PMC28993/cc-1-3-095.nxml\n",
      "no output\n",
      "/workspaces/biomedclip_data_pipeline/_results/data/pubmed_open_access_files/PMC28994/cc-1-3-101.nxml\n",
      "starting...\n",
      "parsed /workspaces/biomedclip_data_pipeline/_results/data/pubmed_open_access_files/PMC28994/cc-1-3-101.nxml\n",
      "no output\n",
      "/workspaces/biomedclip_data_pipeline/_results/data/pubmed_open_access_files/PMC28995/cc-1-3-105.nxml\n",
      "starting...\n",
      "parsed /workspaces/biomedclip_data_pipeline/_results/data/pubmed_open_access_files/PMC28995/cc-1-3-105.nxml\n",
      "/workspaces/biomedclip_data_pipeline/_results/data/pubmed_open_access_files/PMC28996/cc-1-3-111.nxml\n",
      "starting...\n",
      "parsed /workspaces/biomedclip_data_pipeline/_results/data/pubmed_open_access_files/PMC28996/cc-1-3-111.nxml\n",
      "/workspaces/biomedclip_data_pipeline/_results/data/pubmed_open_access_files/PMC28997/cc-2-1-019.nxml\n",
      "starting...\n",
      "parsed /workspaces/biomedclip_data_pipeline/_results/data/pubmed_open_access_files/PMC28997/cc-2-1-019.nxml\n",
      "no output\n",
      "/workspaces/biomedclip_data_pipeline/_results/data/pubmed_open_access_files/PMC28998/cc-2-1-025.nxml\n",
      "starting...\n",
      "parsed /workspaces/biomedclip_data_pipeline/_results/data/pubmed_open_access_files/PMC28998/cc-2-1-025.nxml\n",
      "no output\n",
      "/workspaces/biomedclip_data_pipeline/_results/data/pubmed_open_access_files/PMC28999/cc-2-1-029.nxml\n",
      "starting...\n",
      "parsed /workspaces/biomedclip_data_pipeline/_results/data/pubmed_open_access_files/PMC28999/cc-2-1-029.nxml\n",
      "no output\n",
      "/workspaces/biomedclip_data_pipeline/_results/data/pubmed_open_access_files/PMC29000/cc-2-1-035.nxml\n",
      "starting...\n",
      "parsed /workspaces/biomedclip_data_pipeline/_results/data/pubmed_open_access_files/PMC29000/cc-2-1-035.nxml\n",
      "/workspaces/biomedclip_data_pipeline/_results/data/pubmed_open_access_files/PMC29001/cc-2-2-049.nxml\n",
      "starting...\n",
      "parsed /workspaces/biomedclip_data_pipeline/_results/data/pubmed_open_access_files/PMC29001/cc-2-2-049.nxml\n",
      "no output\n",
      "/workspaces/biomedclip_data_pipeline/_results/data/pubmed_open_access_files/PMC29002/cc-2-2-057.nxml\n",
      "starting...\n",
      "parsed /workspaces/biomedclip_data_pipeline/_results/data/pubmed_open_access_files/PMC29002/cc-2-2-057.nxml\n",
      "/workspaces/biomedclip_data_pipeline/_results/data/pubmed_open_access_files/PMC29003/cc-2-2-061.nxml\n",
      "starting...\n",
      "parsed /workspaces/biomedclip_data_pipeline/_results/data/pubmed_open_access_files/PMC29003/cc-2-2-061.nxml\n",
      "no output\n",
      "/workspaces/biomedclip_data_pipeline/_results/data/pubmed_open_access_files/PMC29004/cc-2-2-067.nxml\n",
      "starting...\n",
      "parsed /workspaces/biomedclip_data_pipeline/_results/data/pubmed_open_access_files/PMC29004/cc-2-2-067.nxml\n",
      "/workspaces/biomedclip_data_pipeline/_results/data/pubmed_open_access_files/PMC29005/cc-3-1-001.nxml\n",
      "starting...\n",
      "parsed /workspaces/biomedclip_data_pipeline/_results/data/pubmed_open_access_files/PMC29005/cc-3-1-001.nxml\n",
      "/workspaces/biomedclip_data_pipeline/_results/data/pubmed_open_access_files/PMC29006/cc-3-1-007.nxml\n",
      "starting...\n",
      "parsed /workspaces/biomedclip_data_pipeline/_results/data/pubmed_open_access_files/PMC29006/cc-3-1-007.nxml\n",
      "no output\n",
      "/workspaces/biomedclip_data_pipeline/_results/data/pubmed_open_access_files/PMC29007/cc-3-1-011.nxml\n",
      "starting...\n",
      "parsed /workspaces/biomedclip_data_pipeline/_results/data/pubmed_open_access_files/PMC29007/cc-3-1-011.nxml\n",
      "/workspaces/biomedclip_data_pipeline/_results/data/pubmed_open_access_files/PMC29008/cc-3-1-017.nxml\n",
      "starting...\n",
      "parsed /workspaces/biomedclip_data_pipeline/_results/data/pubmed_open_access_files/PMC29008/cc-3-1-017.nxml\n",
      "no output\n",
      "/workspaces/biomedclip_data_pipeline/_results/data/pubmed_open_access_files/PMC29009/cc-3-1-019.nxml\n",
      "starting...\n",
      "parsed /workspaces/biomedclip_data_pipeline/_results/data/pubmed_open_access_files/PMC29009/cc-3-1-019.nxml\n",
      "/workspaces/biomedclip_data_pipeline/_results/data/pubmed_open_access_files/PMC29010/cc-3-1-023.nxml\n",
      "starting...\n",
      "parsed /workspaces/biomedclip_data_pipeline/_results/data/pubmed_open_access_files/PMC29010/cc-3-1-023.nxml\n",
      "no output\n",
      "/workspaces/biomedclip_data_pipeline/_results/data/pubmed_open_access_files/PMC29011/cc-3-1-033.nxml\n",
      "starting...\n",
      "parsed /workspaces/biomedclip_data_pipeline/_results/data/pubmed_open_access_files/PMC29011/cc-3-1-033.nxml\n",
      "/workspaces/biomedclip_data_pipeline/_results/data/pubmed_open_access_files/PMC29012/cc-3-1-039.nxml\n",
      "starting...\n",
      "parsed /workspaces/biomedclip_data_pipeline/_results/data/pubmed_open_access_files/PMC29012/cc-3-1-039.nxml\n",
      "/workspaces/biomedclip_data_pipeline/_results/data/pubmed_open_access_files/PMC29013/cc-3-1-045.nxml\n",
      "starting...\n",
      "parsed /workspaces/biomedclip_data_pipeline/_results/data/pubmed_open_access_files/PMC29013/cc-3-1-045.nxml\n",
      "/workspaces/biomedclip_data_pipeline/_results/data/pubmed_open_access_files/PMC29014/cc-3-1-051.nxml\n",
      "starting...\n",
      "parsed /workspaces/biomedclip_data_pipeline/_results/data/pubmed_open_access_files/PMC29014/cc-3-1-051.nxml\n",
      "/workspaces/biomedclip_data_pipeline/_results/data/pubmed_open_access_files/PMC29015/cc-3-2-057.nxml\n",
      "starting...\n",
      "parsed /workspaces/biomedclip_data_pipeline/_results/data/pubmed_open_access_files/PMC29015/cc-3-2-057.nxml\n",
      "/workspaces/biomedclip_data_pipeline/_results/data/pubmed_open_access_files/PMC29016/cc-3-2-065.nxml\n",
      "starting...\n",
      "parsed /workspaces/biomedclip_data_pipeline/_results/data/pubmed_open_access_files/PMC29016/cc-3-2-065.nxml\n",
      "/workspaces/biomedclip_data_pipeline/_results/data/pubmed_open_access_files/PMC29017/cc-3-3-071.nxml\n",
      "starting...\n",
      "parsed /workspaces/biomedclip_data_pipeline/_results/data/pubmed_open_access_files/PMC29017/cc-3-3-071.nxml\n",
      "no output\n",
      "/workspaces/biomedclip_data_pipeline/_results/data/pubmed_open_access_files/PMC29018/cc-3-3-079.nxml\n",
      "starting...\n",
      "parsed /workspaces/biomedclip_data_pipeline/_results/data/pubmed_open_access_files/PMC29018/cc-3-3-079.nxml\n",
      "no output\n",
      "Processed 100 files\n"
     ]
    }
   ],
   "source": [
    "pipeline_input_file_path = repo_root / \"_results\" / \"data\" / \"pubmed_parsed_data.jsonl\"\n",
    "\n",
    "data.generate_pmc15_pipeline_outputs(\n",
    "    decompressed_folder=decompressed_folder_path,\n",
    "    output_file_path=pipeline_input_file_path,\n",
    ")"
   ]
  },
  {
   "cell_type": "code",
   "execution_count": 8,
   "metadata": {},
   "outputs": [
    {
     "name": "stdout",
     "output_type": "stream",
     "text": [
      "Number of lines in pipeline output file: 78\n"
     ]
    }
   ],
   "source": [
    "num_lines = fs_utils.get_line_count(pipeline_input_file_path)\n",
    "print(f\"Number of lines in pipeline output file: {num_lines}\")"
   ]
  }
 ],
 "metadata": {
  "kernelspec": {
   "display_name": ".venv",
   "language": "python",
   "name": "python3"
  },
  "language_info": {
   "codemirror_mode": {
    "name": "ipython",
    "version": 3
   },
   "file_extension": ".py",
   "mimetype": "text/x-python",
   "name": "python",
   "nbconvert_exporter": "python",
   "pygments_lexer": "ipython3",
   "version": "3.12.8"
  }
 },
 "nbformat": 4,
 "nbformat_minor": 2
}
